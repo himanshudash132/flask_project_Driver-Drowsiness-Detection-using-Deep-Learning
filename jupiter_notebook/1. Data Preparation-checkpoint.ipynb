{
 "cells": [
  {
   "cell_type": "code",
   "execution_count": 2,
   "metadata": {},
   "outputs": [],
   "source": [
    "import os\n",
    "import shutil\n",
    "import glob\n",
    "from tqdm import tqdm"
   ]
  },
  {
   "cell_type": "markdown",
   "metadata": {},
   "source": [
    "#\n",
    "subject ID:\n",
    "xxx\n",
    "\n",
    "image number:\n",
    "xxx\n",
    "\n",
    "gender:\n",
    "0 - male\n",
    "1 - famale\n",
    "\n",
    "glasses:\n",
    "0 - no\n",
    "1 - yes\n",
    "\n",
    "eye state:\n",
    "0 - close\n",
    "1 - open\n",
    "\n",
    "reflections:\n",
    "0 - none\n",
    "1 - low\n",
    "2 - high\n",
    "\n",
    "lighting conditions/image quality:\n",
    "0 - bad\n",
    "1 - good\n",
    "\n",
    "sensor type:\n",
    "01 - RealSense SR300 640x480\n",
    "02 - IDS Imaging, 1280x1024\n",
    "03 - Aptina Imagin 752x480\n",
    "\n",
    "example:\n",
    "s001_00123_0_0_0_0_0_01.png"
   ]
  },
  {
   "cell_type": "code",
   "execution_count": 3,
   "metadata": {},
   "outputs": [
    {
     "name": "stderr",
     "output_type": "stream",
     "text": [
      "0it [00:00, ?it/s]\n",
      "100%|█████████████████████████████████████████████████████████████████████████████| 3242/3242 [00:04<00:00, 757.90it/s]\n",
      "100%|█████████████████████████████████████████████████████████████████████████████| 1114/1114 [00:01<00:00, 729.30it/s]\n",
      "100%|███████████████████████████████████████████████████████████████████████████████| 679/679 [00:00<00:00, 882.21it/s]\n",
      "100%|█████████████████████████████████████████████████████████████████████████████| 1069/1069 [00:01<00:00, 693.67it/s]\n",
      "100%|███████████████████████████████████████████████████████████████████████████████| 736/736 [00:01<00:00, 693.54it/s]\n",
      "100%|█████████████████████████████████████████████████████████████████████████████| 1012/1012 [00:01<00:00, 789.98it/s]\n",
      "100%|███████████████████████████████████████████████████████████████████████████████| 624/624 [00:00<00:00, 704.91it/s]\n",
      "100%|███████████████████████████████████████████████████████████████████████████████| 832/832 [00:01<00:00, 754.19it/s]\n",
      "100%|███████████████████████████████████████████████████████████████████████████████| 387/387 [00:00<00:00, 709.27it/s]\n",
      "100%|███████████████████████████████████████████████████████████████████████████████| 399/399 [00:00<00:00, 705.75it/s]\n",
      "100%|█████████████████████████████████████████████████████████████████████████████| 1648/1648 [00:02<00:00, 770.64it/s]\n",
      "100%|█████████████████████████████████████████████████████████████████████████████| 8728/8728 [00:10<00:00, 811.09it/s]\n",
      "100%|█████████████████████████████████████████████████████████████████████████████| 3605/3605 [00:04<00:00, 789.80it/s]\n",
      "100%|█████████████████████████████████████████████████████████████████████████████| 8884/8884 [00:11<00:00, 806.33it/s]\n",
      "100%|█████████████████████████████████████████████████████████████████████████████| 1132/1132 [00:01<00:00, 740.78it/s]\n",
      "100%|█████████████████████████████████████████████████████████████████████████████| 1889/1889 [00:02<00:00, 794.71it/s]\n",
      "100%|█████████████████████████████████████████████████████████████████████████████| 1648/1648 [00:02<00:00, 760.51it/s]\n",
      "100%|████████████████████████████████████████████████████████████████████████████| 4410/4410 [00:04<00:00, 1017.97it/s]\n",
      "100%|████████████████████████████████████████████████████████████████████████████| 6175/6175 [00:05<00:00, 1136.33it/s]\n",
      "100%|██████████████████████████████████████████████████████████████████████████████| 704/704 [00:00<00:00, 1130.29it/s]\n",
      "100%|██████████████████████████████████████████████████████████████████████████████| 987/987 [00:00<00:00, 1114.30it/s]\n",
      "100%|██████████████████████████████████████████████████████████████████████████████| 382/382 [00:00<00:00, 1156.52it/s]\n",
      "100%|██████████████████████████████████████████████████████████████████████████████| 522/522 [00:00<00:00, 1096.59it/s]\n",
      "100%|██████████████████████████████████████████████████████████████████████████████| 752/752 [00:00<00:00, 1264.10it/s]\n",
      "100%|████████████████████████████████████████████████████████████████████████████| 1502/1502 [00:01<00:00, 1201.89it/s]\n",
      "100%|████████████████████████████████████████████████████████████████████████████| 1246/1246 [00:01<00:00, 1013.71it/s]\n",
      "100%|██████████████████████████████████████████████████████████████████████████████| 665/665 [00:00<00:00, 1056.38it/s]\n",
      "100%|██████████████████████████████████████████████████████████████████████████████| 736/736 [00:00<00:00, 1237.96it/s]\n",
      "100%|████████████████████████████████████████████████████████████████████████████| 1393/1393 [00:01<00:00, 1192.63it/s]\n",
      "100%|████████████████████████████████████████████████████████████████████████████| 1384/1384 [00:01<00:00, 1102.05it/s]\n",
      "100%|████████████████████████████████████████████████████████████████████████████| 1738/1738 [00:01<00:00, 1151.97it/s]\n",
      "100%|████████████████████████████████████████████████████████████████████████████| 6162/6162 [00:05<00:00, 1188.03it/s]\n",
      "100%|██████████████████████████████████████████████████████████████████████████████| 681/681 [00:00<00:00, 1257.88it/s]\n",
      "100%|██████████████████████████████████████████████████████████████████████████████| 739/739 [00:00<00:00, 1097.24it/s]\n",
      "100%|██████████████████████████████████████████████████████████████████████████████| 642/642 [00:00<00:00, 1001.13it/s]\n",
      "100%|████████████████████████████████████████████████████████████████████████████| 6193/6193 [00:05<00:00, 1099.59it/s]\n",
      "100%|███████████████████████████████████████████████████████████████████████████| 10257/10257 [00:10<00:00, 936.33it/s]\n"
     ]
    }
   ],
   "source": [
    "Raw_DIR= r'D:\\Data Files\\7th sem projects\\Drivers Drowsiness Detection using Deep Learning 3.0\\MY\\mrlEyes_2018_01'\n",
    "for dirpath, dirname, filenames in os.walk(Raw_DIR):\n",
    "    for i in tqdm([f for f in filenames if f.endswith('.png')]):\n",
    "        if i.split('_')[4]=='0':\n",
    "            shutil.copy(src=dirpath+'/'+i, dst=r'D:\\Data Files\\7th sem projects\\Drivers Drowsiness Detection using Deep Learning 3.0\\MY\\Prepared_Data\\Closed Eyes')\n",
    "        \n",
    "        elif i.split('_')[4]=='1':\n",
    "            shutil.copy(src=dirpath+'/'+i, dst=r'D:\\Data Files\\7th sem projects\\Drivers Drowsiness Detection using Deep Learning 3.0\\MY\\Prepared_Data\\Open Eyes')\n"
   ]
  },
  {
   "cell_type": "code",
   "execution_count": 4,
   "metadata": {},
   "outputs": [
    {
     "name": "stdout",
     "output_type": "stream",
     "text": [
      "Data split completed successfully.\n"
     ]
    }
   ],
   "source": [
    "import os\n",
    "import shutil\n",
    "import random\n",
    "\n",
    "# Define the paths to your folders\n",
    "source_dir_open = r'D:\\Data Files\\7th sem projects\\Drivers Drowsiness Detection using Deep Learning 3.0\\MY\\Prepared_Data\\Open Eyes'\n",
    "source_dir_closed = r'D:\\Data Files\\7th sem projects\\Drivers Drowsiness Detection using Deep Learning 3.0\\MY\\Prepared_Data\\Closed Eyes'\n",
    "\n",
    "# Create directories for train and test sets\n",
    "train_dir_open = r'D:\\Data Files\\7th sem projects\\Drivers Drowsiness Detection using Deep Learning 3.0\\MY\\Prepared_Data\\train\\Open Eyes'\n",
    "test_dir_open = r'D:\\Data Files\\7th sem projects\\Drivers Drowsiness Detection using Deep Learning 3.0\\MY\\Prepared_Data\\test\\Open Eyes'\n",
    "train_dir_closed = r'D:\\Data Files\\7th sem projects\\Drivers Drowsiness Detection using Deep Learning 3.0\\MY\\Prepared_Data\\train\\Closed Eyes'\n",
    "test_dir_closed = r'D:\\Data Files\\7th sem projects\\Drivers Drowsiness Detection using Deep Learning 3.0\\MY\\Prepared_Data\\test\\Closed Eyes'\n",
    "\n",
    "# Create train and test directories if they don't exist\n",
    "os.makedirs(train_dir_open, exist_ok=True)\n",
    "os.makedirs(test_dir_open, exist_ok=True)\n",
    "os.makedirs(train_dir_closed, exist_ok=True)\n",
    "os.makedirs(test_dir_closed, exist_ok=True)\n",
    "\n",
    "# Function to split data into train and test sets\n",
    "def split_data(source_dir, train_dir, test_dir, split_ratio=0.9):\n",
    "    files = os.listdir(source_dir)\n",
    "    random.shuffle(files)\n",
    "    \n",
    "    train_size = int(len(files) * split_ratio)\n",
    "    \n",
    "    train_files = files[:train_size]\n",
    "    test_files = files[train_size:]\n",
    "    \n",
    "    for file_name in train_files:\n",
    "        shutil.copy(os.path.join(source_dir, file_name), os.path.join(train_dir, file_name))\n",
    "    \n",
    "    for file_name in test_files:\n",
    "        shutil.copy(os.path.join(source_dir, file_name), os.path.join(test_dir, file_name))\n",
    "\n",
    "# Split the open eyes data\n",
    "split_data(source_dir_open, train_dir_open, test_dir_open)\n",
    "\n",
    "# Split the closed eyes data\n",
    "split_data(source_dir_closed, train_dir_closed, test_dir_closed)\n",
    "\n",
    "print(\"Data split completed successfully.\")\n"
   ]
  },
  {
   "cell_type": "code",
   "execution_count": null,
   "metadata": {},
   "outputs": [],
   "source": []
  }
 ],
 "metadata": {
  "kernelspec": {
   "display_name": "Python 3 (ipykernel)",
   "language": "python",
   "name": "python3"
  },
  "language_info": {
   "codemirror_mode": {
    "name": "ipython",
    "version": 3
   },
   "file_extension": ".py",
   "mimetype": "text/x-python",
   "name": "python",
   "nbconvert_exporter": "python",
   "pygments_lexer": "ipython3",
   "version": "3.11.4"
  }
 },
 "nbformat": 4,
 "nbformat_minor": 4
}
